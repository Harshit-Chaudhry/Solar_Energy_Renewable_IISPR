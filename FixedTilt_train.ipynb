{
  "cells": [
    {
      "cell_type": "markdown",
      "source": [
        "# Import Library"
      ],
      "metadata": {
        "id": "gS1PVhc2MObw"
      },
      "id": "gS1PVhc2MObw"
    },
    {
      "cell_type": "code",
      "execution_count": 70,
      "id": "1a6d86b8",
      "metadata": {
        "id": "1a6d86b8"
      },
      "outputs": [],
      "source": [
        "import pandas as pd\n",
        "import numpy as np\n",
        "import matplotlib.pyplot as plt\n",
        "from sklearn.preprocessing import MinMaxScaler\n",
        "from sklearn.metrics import mean_squared_error\n",
        "import tensorflow as tf\n",
        "from tensorflow.keras.models import Sequential\n",
        "from tensorflow.keras.layers import LSTM, Dense\n",
        "from tensorflow.keras.callbacks import EarlyStopping\n",
        "import random"
      ]
    },
    {
      "cell_type": "markdown",
      "source": [
        "# Access the Data & cleaning"
      ],
      "metadata": {
        "id": "Xkz4gOgJPUAv"
      },
      "id": "Xkz4gOgJPUAv"
    },
    {
      "cell_type": "code",
      "execution_count": 54,
      "id": "7b5bf6b2",
      "metadata": {
        "id": "7b5bf6b2"
      },
      "outputs": [],
      "source": [
        "df=pd.read_csv(\"/content/Ultimate_2019_2022_FixedTilt_Data.csv\")\n",
        "df['Timestamp'] = pd.to_datetime(df[['Year', 'Month', 'Day', 'Hour']])\n",
        "df.set_index('Timestamp', inplace=True)"
      ]
    },
    {
      "cell_type": "code",
      "source": [
        "df['hour'] = df.index.hour\n",
        "df['dayofyear'] = df.index.dayofyear"
      ],
      "metadata": {
        "id": "DkMMUiS6MYav"
      },
      "id": "DkMMUiS6MYav",
      "execution_count": 55,
      "outputs": []
    },
    {
      "cell_type": "code",
      "source": [
        "features = ['DHI', 'DNI', 'Temperature', 'Relative Humidity', 'hour', 'dayofyear']\n",
        "target = 'GHI'"
      ],
      "metadata": {
        "id": "FMmrCPVzumPl"
      },
      "id": "FMmrCPVzumPl",
      "execution_count": 56,
      "outputs": []
    },
    {
      "cell_type": "code",
      "execution_count": 57,
      "id": "a97ca8f9",
      "metadata": {
        "id": "a97ca8f9"
      },
      "outputs": [],
      "source": [
        "df_cleaned = df[features + [target]].dropna()"
      ]
    },
    {
      "cell_type": "code",
      "source": [
        "df_cleaned.head()"
      ],
      "metadata": {
        "colab": {
          "base_uri": "https://localhost:8080/",
          "height": 238
        },
        "id": "cukshgxFM27B",
        "outputId": "7449df71-46bf-4db5-b916-8d955db9d47e"
      },
      "id": "cukshgxFM27B",
      "execution_count": 58,
      "outputs": [
        {
          "output_type": "execute_result",
          "data": {
            "text/plain": [
              "                      DHI   DNI  Temperature  Relative Humidity  hour  \\\n",
              "Timestamp                                                               \n",
              "2019-01-01 00:00:00   0.0   0.0          9.8              96.43     0   \n",
              "2019-01-01 01:00:00   0.0   0.0          9.5              96.16     1   \n",
              "2019-01-01 02:00:00   0.0   0.0          9.3              95.73     2   \n",
              "2019-01-01 03:00:00   0.0   0.0          9.1              95.51     3   \n",
              "2019-01-01 04:00:00  28.0  33.0          9.6              91.57     4   \n",
              "\n",
              "                     dayofyear   GHI  \n",
              "Timestamp                             \n",
              "2019-01-01 00:00:00          1   0.0  \n",
              "2019-01-01 01:00:00          1   0.0  \n",
              "2019-01-01 02:00:00          1   0.0  \n",
              "2019-01-01 03:00:00          1   0.0  \n",
              "2019-01-01 04:00:00          1  30.0  "
            ],
            "text/html": [
              "\n",
              "  <div id=\"df-b6f93497-7a21-4744-9a40-8d1566157176\" class=\"colab-df-container\">\n",
              "    <div>\n",
              "<style scoped>\n",
              "    .dataframe tbody tr th:only-of-type {\n",
              "        vertical-align: middle;\n",
              "    }\n",
              "\n",
              "    .dataframe tbody tr th {\n",
              "        vertical-align: top;\n",
              "    }\n",
              "\n",
              "    .dataframe thead th {\n",
              "        text-align: right;\n",
              "    }\n",
              "</style>\n",
              "<table border=\"1\" class=\"dataframe\">\n",
              "  <thead>\n",
              "    <tr style=\"text-align: right;\">\n",
              "      <th></th>\n",
              "      <th>DHI</th>\n",
              "      <th>DNI</th>\n",
              "      <th>Temperature</th>\n",
              "      <th>Relative Humidity</th>\n",
              "      <th>hour</th>\n",
              "      <th>dayofyear</th>\n",
              "      <th>GHI</th>\n",
              "    </tr>\n",
              "    <tr>\n",
              "      <th>Timestamp</th>\n",
              "      <th></th>\n",
              "      <th></th>\n",
              "      <th></th>\n",
              "      <th></th>\n",
              "      <th></th>\n",
              "      <th></th>\n",
              "      <th></th>\n",
              "    </tr>\n",
              "  </thead>\n",
              "  <tbody>\n",
              "    <tr>\n",
              "      <th>2019-01-01 00:00:00</th>\n",
              "      <td>0.0</td>\n",
              "      <td>0.0</td>\n",
              "      <td>9.8</td>\n",
              "      <td>96.43</td>\n",
              "      <td>0</td>\n",
              "      <td>1</td>\n",
              "      <td>0.0</td>\n",
              "    </tr>\n",
              "    <tr>\n",
              "      <th>2019-01-01 01:00:00</th>\n",
              "      <td>0.0</td>\n",
              "      <td>0.0</td>\n",
              "      <td>9.5</td>\n",
              "      <td>96.16</td>\n",
              "      <td>1</td>\n",
              "      <td>1</td>\n",
              "      <td>0.0</td>\n",
              "    </tr>\n",
              "    <tr>\n",
              "      <th>2019-01-01 02:00:00</th>\n",
              "      <td>0.0</td>\n",
              "      <td>0.0</td>\n",
              "      <td>9.3</td>\n",
              "      <td>95.73</td>\n",
              "      <td>2</td>\n",
              "      <td>1</td>\n",
              "      <td>0.0</td>\n",
              "    </tr>\n",
              "    <tr>\n",
              "      <th>2019-01-01 03:00:00</th>\n",
              "      <td>0.0</td>\n",
              "      <td>0.0</td>\n",
              "      <td>9.1</td>\n",
              "      <td>95.51</td>\n",
              "      <td>3</td>\n",
              "      <td>1</td>\n",
              "      <td>0.0</td>\n",
              "    </tr>\n",
              "    <tr>\n",
              "      <th>2019-01-01 04:00:00</th>\n",
              "      <td>28.0</td>\n",
              "      <td>33.0</td>\n",
              "      <td>9.6</td>\n",
              "      <td>91.57</td>\n",
              "      <td>4</td>\n",
              "      <td>1</td>\n",
              "      <td>30.0</td>\n",
              "    </tr>\n",
              "  </tbody>\n",
              "</table>\n",
              "</div>\n",
              "    <div class=\"colab-df-buttons\">\n",
              "\n",
              "  <div class=\"colab-df-container\">\n",
              "    <button class=\"colab-df-convert\" onclick=\"convertToInteractive('df-b6f93497-7a21-4744-9a40-8d1566157176')\"\n",
              "            title=\"Convert this dataframe to an interactive table.\"\n",
              "            style=\"display:none;\">\n",
              "\n",
              "  <svg xmlns=\"http://www.w3.org/2000/svg\" height=\"24px\" viewBox=\"0 -960 960 960\">\n",
              "    <path d=\"M120-120v-720h720v720H120Zm60-500h600v-160H180v160Zm220 220h160v-160H400v160Zm0 220h160v-160H400v160ZM180-400h160v-160H180v160Zm440 0h160v-160H620v160ZM180-180h160v-160H180v160Zm440 0h160v-160H620v160Z\"/>\n",
              "  </svg>\n",
              "    </button>\n",
              "\n",
              "  <style>\n",
              "    .colab-df-container {\n",
              "      display:flex;\n",
              "      gap: 12px;\n",
              "    }\n",
              "\n",
              "    .colab-df-convert {\n",
              "      background-color: #E8F0FE;\n",
              "      border: none;\n",
              "      border-radius: 50%;\n",
              "      cursor: pointer;\n",
              "      display: none;\n",
              "      fill: #1967D2;\n",
              "      height: 32px;\n",
              "      padding: 0 0 0 0;\n",
              "      width: 32px;\n",
              "    }\n",
              "\n",
              "    .colab-df-convert:hover {\n",
              "      background-color: #E2EBFA;\n",
              "      box-shadow: 0px 1px 2px rgba(60, 64, 67, 0.3), 0px 1px 3px 1px rgba(60, 64, 67, 0.15);\n",
              "      fill: #174EA6;\n",
              "    }\n",
              "\n",
              "    .colab-df-buttons div {\n",
              "      margin-bottom: 4px;\n",
              "    }\n",
              "\n",
              "    [theme=dark] .colab-df-convert {\n",
              "      background-color: #3B4455;\n",
              "      fill: #D2E3FC;\n",
              "    }\n",
              "\n",
              "    [theme=dark] .colab-df-convert:hover {\n",
              "      background-color: #434B5C;\n",
              "      box-shadow: 0px 1px 3px 1px rgba(0, 0, 0, 0.15);\n",
              "      filter: drop-shadow(0px 1px 2px rgba(0, 0, 0, 0.3));\n",
              "      fill: #FFFFFF;\n",
              "    }\n",
              "  </style>\n",
              "\n",
              "    <script>\n",
              "      const buttonEl =\n",
              "        document.querySelector('#df-b6f93497-7a21-4744-9a40-8d1566157176 button.colab-df-convert');\n",
              "      buttonEl.style.display =\n",
              "        google.colab.kernel.accessAllowed ? 'block' : 'none';\n",
              "\n",
              "      async function convertToInteractive(key) {\n",
              "        const element = document.querySelector('#df-b6f93497-7a21-4744-9a40-8d1566157176');\n",
              "        const dataTable =\n",
              "          await google.colab.kernel.invokeFunction('convertToInteractive',\n",
              "                                                    [key], {});\n",
              "        if (!dataTable) return;\n",
              "\n",
              "        const docLinkHtml = 'Like what you see? Visit the ' +\n",
              "          '<a target=\"_blank\" href=https://colab.research.google.com/notebooks/data_table.ipynb>data table notebook</a>'\n",
              "          + ' to learn more about interactive tables.';\n",
              "        element.innerHTML = '';\n",
              "        dataTable['output_type'] = 'display_data';\n",
              "        await google.colab.output.renderOutput(dataTable, element);\n",
              "        const docLink = document.createElement('div');\n",
              "        docLink.innerHTML = docLinkHtml;\n",
              "        element.appendChild(docLink);\n",
              "      }\n",
              "    </script>\n",
              "  </div>\n",
              "\n",
              "\n",
              "    <div id=\"df-8397af32-ed30-44af-b386-de0371dda2d0\">\n",
              "      <button class=\"colab-df-quickchart\" onclick=\"quickchart('df-8397af32-ed30-44af-b386-de0371dda2d0')\"\n",
              "                title=\"Suggest charts\"\n",
              "                style=\"display:none;\">\n",
              "\n",
              "<svg xmlns=\"http://www.w3.org/2000/svg\" height=\"24px\"viewBox=\"0 0 24 24\"\n",
              "     width=\"24px\">\n",
              "    <g>\n",
              "        <path d=\"M19 3H5c-1.1 0-2 .9-2 2v14c0 1.1.9 2 2 2h14c1.1 0 2-.9 2-2V5c0-1.1-.9-2-2-2zM9 17H7v-7h2v7zm4 0h-2V7h2v10zm4 0h-2v-4h2v4z\"/>\n",
              "    </g>\n",
              "</svg>\n",
              "      </button>\n",
              "\n",
              "<style>\n",
              "  .colab-df-quickchart {\n",
              "      --bg-color: #E8F0FE;\n",
              "      --fill-color: #1967D2;\n",
              "      --hover-bg-color: #E2EBFA;\n",
              "      --hover-fill-color: #174EA6;\n",
              "      --disabled-fill-color: #AAA;\n",
              "      --disabled-bg-color: #DDD;\n",
              "  }\n",
              "\n",
              "  [theme=dark] .colab-df-quickchart {\n",
              "      --bg-color: #3B4455;\n",
              "      --fill-color: #D2E3FC;\n",
              "      --hover-bg-color: #434B5C;\n",
              "      --hover-fill-color: #FFFFFF;\n",
              "      --disabled-bg-color: #3B4455;\n",
              "      --disabled-fill-color: #666;\n",
              "  }\n",
              "\n",
              "  .colab-df-quickchart {\n",
              "    background-color: var(--bg-color);\n",
              "    border: none;\n",
              "    border-radius: 50%;\n",
              "    cursor: pointer;\n",
              "    display: none;\n",
              "    fill: var(--fill-color);\n",
              "    height: 32px;\n",
              "    padding: 0;\n",
              "    width: 32px;\n",
              "  }\n",
              "\n",
              "  .colab-df-quickchart:hover {\n",
              "    background-color: var(--hover-bg-color);\n",
              "    box-shadow: 0 1px 2px rgba(60, 64, 67, 0.3), 0 1px 3px 1px rgba(60, 64, 67, 0.15);\n",
              "    fill: var(--button-hover-fill-color);\n",
              "  }\n",
              "\n",
              "  .colab-df-quickchart-complete:disabled,\n",
              "  .colab-df-quickchart-complete:disabled:hover {\n",
              "    background-color: var(--disabled-bg-color);\n",
              "    fill: var(--disabled-fill-color);\n",
              "    box-shadow: none;\n",
              "  }\n",
              "\n",
              "  .colab-df-spinner {\n",
              "    border: 2px solid var(--fill-color);\n",
              "    border-color: transparent;\n",
              "    border-bottom-color: var(--fill-color);\n",
              "    animation:\n",
              "      spin 1s steps(1) infinite;\n",
              "  }\n",
              "\n",
              "  @keyframes spin {\n",
              "    0% {\n",
              "      border-color: transparent;\n",
              "      border-bottom-color: var(--fill-color);\n",
              "      border-left-color: var(--fill-color);\n",
              "    }\n",
              "    20% {\n",
              "      border-color: transparent;\n",
              "      border-left-color: var(--fill-color);\n",
              "      border-top-color: var(--fill-color);\n",
              "    }\n",
              "    30% {\n",
              "      border-color: transparent;\n",
              "      border-left-color: var(--fill-color);\n",
              "      border-top-color: var(--fill-color);\n",
              "      border-right-color: var(--fill-color);\n",
              "    }\n",
              "    40% {\n",
              "      border-color: transparent;\n",
              "      border-right-color: var(--fill-color);\n",
              "      border-top-color: var(--fill-color);\n",
              "    }\n",
              "    60% {\n",
              "      border-color: transparent;\n",
              "      border-right-color: var(--fill-color);\n",
              "    }\n",
              "    80% {\n",
              "      border-color: transparent;\n",
              "      border-right-color: var(--fill-color);\n",
              "      border-bottom-color: var(--fill-color);\n",
              "    }\n",
              "    90% {\n",
              "      border-color: transparent;\n",
              "      border-bottom-color: var(--fill-color);\n",
              "    }\n",
              "  }\n",
              "</style>\n",
              "\n",
              "      <script>\n",
              "        async function quickchart(key) {\n",
              "          const quickchartButtonEl =\n",
              "            document.querySelector('#' + key + ' button');\n",
              "          quickchartButtonEl.disabled = true;  // To prevent multiple clicks.\n",
              "          quickchartButtonEl.classList.add('colab-df-spinner');\n",
              "          try {\n",
              "            const charts = await google.colab.kernel.invokeFunction(\n",
              "                'suggestCharts', [key], {});\n",
              "          } catch (error) {\n",
              "            console.error('Error during call to suggestCharts:', error);\n",
              "          }\n",
              "          quickchartButtonEl.classList.remove('colab-df-spinner');\n",
              "          quickchartButtonEl.classList.add('colab-df-quickchart-complete');\n",
              "        }\n",
              "        (() => {\n",
              "          let quickchartButtonEl =\n",
              "            document.querySelector('#df-8397af32-ed30-44af-b386-de0371dda2d0 button');\n",
              "          quickchartButtonEl.style.display =\n",
              "            google.colab.kernel.accessAllowed ? 'block' : 'none';\n",
              "        })();\n",
              "      </script>\n",
              "    </div>\n",
              "\n",
              "    </div>\n",
              "  </div>\n"
            ],
            "application/vnd.google.colaboratory.intrinsic+json": {
              "type": "dataframe",
              "variable_name": "df_cleaned",
              "summary": "{\n  \"name\": \"df_cleaned\",\n  \"rows\": 35064,\n  \"fields\": [\n    {\n      \"column\": \"Timestamp\",\n      \"properties\": {\n        \"dtype\": \"date\",\n        \"min\": \"2019-01-01 00:00:00\",\n        \"max\": \"2022-12-31 23:00:00\",\n        \"num_unique_values\": 35064,\n        \"samples\": [\n          \"2019-09-10 22:00:00\",\n          \"2022-09-20 08:00:00\",\n          \"2020-01-04 14:00:00\"\n        ],\n        \"semantic_type\": \"\",\n        \"description\": \"\"\n      }\n    },\n    {\n      \"column\": \"DHI\",\n      \"properties\": {\n        \"dtype\": \"number\",\n        \"std\": 127.32340339026285,\n        \"min\": 0.0,\n        \"max\": 693.0,\n        \"num_unique_values\": 597,\n        \"samples\": [\n          270.0,\n          463.0,\n          122.0\n        ],\n        \"semantic_type\": \"\",\n        \"description\": \"\"\n      }\n    },\n    {\n      \"column\": \"DNI\",\n      \"properties\": {\n        \"dtype\": \"number\",\n        \"std\": 300.48269678383747,\n        \"min\": 0.0,\n        \"max\": 1028.0,\n        \"num_unique_values\": 997,\n        \"samples\": [\n          887.0,\n          227.0,\n          642.0\n        ],\n        \"semantic_type\": \"\",\n        \"description\": \"\"\n      }\n    },\n    {\n      \"column\": \"Temperature\",\n      \"properties\": {\n        \"dtype\": \"number\",\n        \"std\": 9.862609727661185,\n        \"min\": -0.5,\n        \"max\": 47.4,\n        \"num_unique_values\": 469,\n        \"samples\": [\n          18.3,\n          22.1,\n          26.1\n        ],\n        \"semantic_type\": \"\",\n        \"description\": \"\"\n      }\n    },\n    {\n      \"column\": \"Relative Humidity\",\n      \"properties\": {\n        \"dtype\": \"number\",\n        \"std\": 16.74693775842734,\n        \"min\": 3.66,\n        \"max\": 100.0,\n        \"num_unique_values\": 6513,\n        \"samples\": [\n          30.73,\n          37.22,\n          31.63\n        ],\n        \"semantic_type\": \"\",\n        \"description\": \"\"\n      }\n    },\n    {\n      \"column\": \"hour\",\n      \"properties\": {\n        \"dtype\": \"int32\",\n        \"num_unique_values\": 24,\n        \"samples\": [\n          8,\n          16,\n          0\n        ],\n        \"semantic_type\": \"\",\n        \"description\": \"\"\n      }\n    },\n    {\n      \"column\": \"dayofyear\",\n      \"properties\": {\n        \"dtype\": \"int32\",\n        \"num_unique_values\": 366,\n        \"samples\": [\n          194,\n          34,\n          16\n        ],\n        \"semantic_type\": \"\",\n        \"description\": \"\"\n      }\n    },\n    {\n      \"column\": \"GHI\",\n      \"properties\": {\n        \"dtype\": \"number\",\n        \"std\": 335.833260638688,\n        \"min\": 0.0,\n        \"max\": 1072.0,\n        \"num_unique_values\": 1057,\n        \"samples\": [\n          108.0,\n          950.0,\n          816.0\n        ],\n        \"semantic_type\": \"\",\n        \"description\": \"\"\n      }\n    }\n  ]\n}"
            }
          },
          "metadata": {},
          "execution_count": 58
        }
      ]
    },
    {
      "cell_type": "markdown",
      "source": [
        "# Scaling the Data"
      ],
      "metadata": {
        "id": "C3L2dM0wPc3r"
      },
      "id": "C3L2dM0wPc3r"
    },
    {
      "cell_type": "code",
      "source": [
        "scaler = MinMaxScaler()\n",
        "data_scaled = scaler.fit_transform(df_cleaned)\n",
        "data = pd.DataFrame(data_scaled, columns=features + [target], index=df_cleaned.index)"
      ],
      "metadata": {
        "id": "sBk3bhlJu3cW"
      },
      "id": "sBk3bhlJu3cW",
      "execution_count": 59,
      "outputs": []
    },
    {
      "cell_type": "code",
      "source": [
        "print(df.columns.tolist())"
      ],
      "metadata": {
        "colab": {
          "base_uri": "https://localhost:8080/"
        },
        "id": "5-wd9QN9u_a3",
        "outputId": "fb72af7a-aa09-480b-ce11-bf78a8d6429b"
      },
      "id": "5-wd9QN9u_a3",
      "execution_count": 60,
      "outputs": [
        {
          "output_type": "stream",
          "name": "stdout",
          "text": [
            "['Year', 'Month', 'Day', 'Hour', 'Minute', 'Temperature', 'Clearsky DHI', 'Clearsky DNI', 'Clearsky GHI', 'Cloud Type', 'Dew Point', 'DHI', 'DNI', 'Fill Flag', 'GHI', 'Relative Humidity', 'Solar Zenith Angle', 'Surface Albedo', 'Pressure', 'Precipitable Water', 'Wind Direction', 'Wind Speed', 'Si (BPR)', 'Si (Wacker)', 'Si (Eurosil)', 'GaAs (Bauhuis et al., 2009)', 'InGap (Gray, 2008)', 'InGap (McGambridge, 2011)', 'CdTe', 'Solar Azimuth Angle', 'Panel Tilt', 'Panel Azimuth Angle', '0.2800 um', '0.2805 um', '0.2810 um', '0.2815 um', '0.2820 um', '0.2825 um', '0.2830 um', '0.2835 um', '0.2840 um', '0.2845 um', '0.2850 um', '0.2855 um', '0.2860 um', '0.2865 um', '0.2870 um', '0.2875 um', '0.2880 um', '0.2885 um', '0.2890 um', '0.2895 um', '0.2900 um', '0.2905 um', '0.2910 um', '0.2915 um', '0.2920 um', '0.2925 um', '0.2930 um', '0.2935 um', '0.2940 um', '0.2945 um', '0.2950 um', '0.2955 um', '0.2960 um', '0.2965 um', '0.2970 um', '0.2975 um', '0.2980 um', '0.2985 um', '0.2990 um', '0.2995 um', '0.3000 um', '0.3005 um', '0.3010 um', '0.3015 um', '0.3020 um', '0.3025 um', '0.3030 um', '0.3035 um', '0.3040 um', '0.3045 um', '0.3050 um', '0.3055 um', '0.3060 um', '0.3065 um', '0.3070 um', '0.3075 um', '0.3080 um', '0.3085 um', '0.3090 um', '0.3095 um', '0.3100 um', '0.3105 um', '0.3110 um', '0.3115 um', '0.3120 um', '0.3125 um', '0.3130 um', '0.3135 um', '0.3140 um', '0.3145 um', '0.3150 um', '0.3155 um', '0.3160 um', '0.3165 um', '0.3170 um', '0.3175 um', '0.3180 um', '0.3185 um', '0.3190 um', '0.3195 um', '0.3200 um', '0.3205 um', '0.3210 um', '0.3215 um', '0.3220 um', '0.3225 um', '0.3230 um', '0.3235 um', '0.3240 um', '0.3245 um', '0.3250 um', '0.3255 um', '0.3260 um', '0.3265 um', '0.3270 um', '0.3275 um', '0.3280 um', '0.3285 um', '0.3290 um', '0.3295 um', '0.3300 um', '0.3305 um', '0.3310 um', '0.3315 um', '0.3320 um', '0.3325 um', '0.3330 um', '0.3335 um', '0.3340 um', '0.3345 um', '0.3350 um', '0.3355 um', '0.3360 um', '0.3365 um', '0.3370 um', '0.3375 um', '0.3380 um', '0.3385 um', '0.3390 um', '0.3395 um', '0.3400 um', '0.3405 um', '0.3410 um', '0.3415 um', '0.3420 um', '0.3425 um', '0.3430 um', '0.3435 um', '0.3440 um', '0.3445 um', '0.3450 um', '0.3455 um', '0.3460 um', '0.3465 um', '0.3470 um', '0.3475 um', '0.3480 um', '0.3485 um', '0.3490 um', '0.3495 um', '0.3500 um', '0.3505 um', '0.3510 um', '0.3515 um', '0.3520 um', '0.3525 um', '0.3530 um', '0.3535 um', '0.3540 um', '0.3545 um', '0.3550 um', '0.3555 um', '0.3560 um', '0.3565 um', '0.3570 um', '0.3575 um', '0.3580 um', '0.3585 um', '0.3590 um', '0.3595 um', '0.3600 um', '0.3605 um', '0.3610 um', '0.3615 um', '0.3620 um', '0.3625 um', '0.3630 um', '0.3635 um', '0.3640 um', '0.3645 um', '0.3650 um', '0.3655 um', '0.3660 um', '0.3665 um', '0.3670 um', '0.3675 um', '0.3680 um', '0.3685 um', '0.3690 um', '0.3695 um', '0.3700 um', '0.3705 um', '0.3710 um', '0.3715 um', '0.3720 um', '0.3725 um', '0.3730 um', '0.3735 um', '0.3740 um', '0.3745 um', '0.3750 um', '0.3755 um', '0.3760 um', '0.3765 um', '0.3770 um', '0.3775 um', '0.3780 um', '0.3785 um', '0.3790 um', '0.3795 um', '0.3800 um', '0.3805 um', '0.3810 um', '0.3815 um', '0.3820 um', '0.3825 um', '0.3830 um', '0.3835 um', '0.3840 um', '0.3845 um', '0.3850 um', '0.3855 um', '0.3860 um', '0.3865 um', '0.3870 um', '0.3875 um', '0.3880 um', '0.3885 um', '0.3890 um', '0.3895 um', '0.3900 um', '0.3905 um', '0.3910 um', '0.3915 um', '0.3920 um', '0.3925 um', '0.3930 um', '0.3935 um', '0.3940 um', '0.3945 um', '0.3950 um', '0.3955 um', '0.3960 um', '0.3965 um', '0.3970 um', '0.3975 um', '0.3980 um', '0.3985 um', '0.3990 um', '0.3995 um', '0.4000 um', '0.4010 um', '0.4020 um', '0.4030 um', '0.4040 um', '0.4050 um', '0.4060 um', '0.4070 um', '0.4080 um', '0.4090 um', '0.4100 um', '0.4110 um', '0.4120 um', '0.4130 um', '0.4140 um', '0.4150 um', '0.4160 um', '0.4170 um', '0.4180 um', '0.4190 um', '0.4200 um', '0.4210 um', '0.4220 um', '0.4230 um', '0.4240 um', '0.4250 um', '0.4260 um', '0.4270 um', '0.4280 um', '0.4290 um', '0.4300 um', '0.4310 um', '0.4320 um', '0.4330 um', '0.4340 um', '0.4350 um', '0.4360 um', '0.4370 um', '0.4380 um', '0.4390 um', '0.4400 um', '0.4410 um', '0.4420 um', '0.4430 um', '0.4440 um', '0.4450 um', '0.4460 um', '0.4470 um', '0.4480 um', '0.4490 um', '0.4500 um', '0.4510 um', '0.4520 um', '0.4530 um', '0.4540 um', '0.4550 um', '0.4560 um', '0.4570 um', '0.4580 um', '0.4590 um', '0.4600 um', '0.4610 um', '0.4620 um', '0.4630 um', '0.4640 um', '0.4650 um', '0.4660 um', '0.4670 um', '0.4680 um', '0.4690 um', '0.4700 um', '0.4710 um', '0.4720 um', '0.4730 um', '0.4740 um', '0.4750 um', '0.4760 um', '0.4770 um', '0.4780 um', '0.4790 um', '0.4800 um', '0.4810 um', '0.4820 um', '0.4830 um', '0.4840 um', '0.4850 um', '0.4860 um', '0.4870 um', '0.4880 um', '0.4890 um', '0.4900 um', '0.4910 um', '0.4920 um', '0.4930 um', '0.4940 um', '0.4950 um', '0.4960 um', '0.4970 um', '0.4980 um', '0.4990 um', '0.5000 um', '0.5010 um', '0.5020 um', '0.5030 um', '0.5040 um', '0.5050 um', '0.5060 um', '0.5070 um', '0.5080 um', '0.5090 um', '0.5100 um', '0.5110 um', '0.5120 um', '0.5130 um', '0.5140 um', '0.5150 um', '0.5160 um', '0.5170 um', '0.5180 um', '0.5190 um', '0.5200 um', '0.5210 um', '0.5220 um', '0.5230 um', '0.5240 um', '0.5250 um', '0.5260 um', '0.5270 um', '0.5280 um', '0.5290 um', '0.5300 um', '0.5310 um', '0.5320 um', '0.5330 um', '0.5340 um', '0.5350 um', '0.5360 um', '0.5370 um', '0.5380 um', '0.5390 um', '0.5400 um', '0.5410 um', '0.5420 um', '0.5430 um', '0.5440 um', '0.5450 um', '0.5460 um', '0.5470 um', '0.5480 um', '0.5490 um', '0.5500 um', '0.5510 um', '0.5520 um', '0.5530 um', '0.5540 um', '0.5550 um', '0.5560 um', '0.5570 um', '0.5580 um', '0.5590 um', '0.5600 um', '0.5610 um', '0.5620 um', '0.5630 um', '0.5640 um', '0.5650 um', '0.5660 um', '0.5670 um', '0.5680 um', '0.5690 um', '0.5700 um', '0.5710 um', '0.5720 um', '0.5730 um', '0.5740 um', '0.5750 um', '0.5760 um', '0.5770 um', '0.5780 um', '0.5790 um', '0.5800 um', '0.5810 um', '0.5820 um', '0.5830 um', '0.5840 um', '0.5850 um', '0.5860 um', '0.5870 um', '0.5880 um', '0.5890 um', '0.5900 um', '0.5910 um', '0.5920 um', '0.5930 um', '0.5940 um', '0.5950 um', '0.5960 um', '0.5970 um', '0.5980 um', '0.5990 um', '0.6000 um', '0.6010 um', '0.6020 um', '0.6030 um', '0.6040 um', '0.6050 um', '0.6060 um', '0.6070 um', '0.6080 um', '0.6090 um', '0.6100 um', '0.6110 um', '0.6120 um', '0.6130 um', '0.6140 um', '0.6150 um', '0.6160 um', '0.6170 um', '0.6180 um', '0.6190 um', '0.6200 um', '0.6210 um', '0.6220 um', '0.6230 um', '0.6240 um', '0.6250 um', '0.6260 um', '0.6270 um', '0.6280 um', '0.6290 um', '0.6300 um', '0.6310 um', '0.6320 um', '0.6330 um', '0.6340 um', '0.6350 um', '0.6360 um', '0.6370 um', '0.6380 um', '0.6390 um', '0.6400 um', '0.6410 um', '0.6420 um', '0.6430 um', '0.6440 um', '0.6450 um', '0.6460 um', '0.6470 um', '0.6480 um', '0.6490 um', '0.6500 um', '0.6510 um', '0.6520 um', '0.6530 um', '0.6540 um', '0.6550 um', '0.6560 um', '0.6570 um', '0.6580 um', '0.6590 um', '0.6600 um', '0.6610 um', '0.6620 um', '0.6630 um', '0.6640 um', '0.6650 um', '0.6660 um', '0.6670 um', '0.6680 um', '0.6690 um', '0.6700 um', '0.6710 um', '0.6720 um', '0.6730 um', '0.6740 um', '0.6750 um', '0.6760 um', '0.6770 um', '0.6780 um', '0.6790 um', '0.6800 um', '0.6810 um', '0.6820 um', '0.6830 um', '0.6840 um', '0.6850 um', '0.6860 um', '0.6870 um', '0.6880 um', '0.6890 um', '0.6900 um', '0.6910 um', '0.6920 um', '0.6930 um', '0.6940 um', '0.6950 um', '0.6960 um', '0.6970 um', '0.6980 um', '0.6990 um', '0.7000 um', '0.7010 um', '0.7020 um', '0.7030 um', '0.7040 um', '0.7050 um', '0.7060 um', '0.7070 um', '0.7080 um', '0.7090 um', '0.7100 um', '0.7110 um', '0.7120 um', '0.7130 um', '0.7140 um', '0.7150 um', '0.7160 um', '0.7170 um', '0.7180 um', '0.7190 um', '0.7200 um', '0.7210 um', '0.7220 um', '0.7230 um', '0.7240 um', '0.7250 um', '0.7260 um', '0.7270 um', '0.7280 um', '0.7290 um', '0.7300 um', '0.7310 um', '0.7320 um', '0.7330 um', '0.7340 um', '0.7350 um', '0.7360 um', '0.7370 um', '0.7380 um', '0.7390 um', '0.7400 um', '0.7410 um', '0.7420 um', '0.7430 um', '0.7440 um', '0.7450 um', '0.7460 um', '0.7470 um', '0.7480 um', '0.7490 um', '0.7500 um', '0.7510 um', '0.7520 um', '0.7530 um', '0.7540 um', '0.7550 um', '0.7560 um', '0.7570 um', '0.7580 um', '0.7590 um', '0.7600 um', '0.7610 um', '0.7620 um', '0.7630 um', '0.7640 um', '0.7650 um', '0.7660 um', '0.7670 um', '0.7680 um', '0.7690 um', '0.7700 um', '0.7710 um', '0.7720 um', '0.7730 um', '0.7740 um', '0.7750 um', '0.7760 um', '0.7770 um', '0.7780 um', '0.7790 um', '0.7800 um', '0.7810 um', '0.7820 um', '0.7830 um', '0.7840 um', '0.7850 um', '0.7860 um', '0.7870 um', '0.7880 um', '0.7890 um', '0.7900 um', '0.7910 um', '0.7920 um', '0.7930 um', '0.7940 um', '0.7950 um', '0.7960 um', '0.7970 um', '0.7980 um', '0.7990 um', '0.8000 um', '0.8010 um', '0.8020 um', '0.8030 um', '0.8040 um', '0.8050 um', '0.8060 um', '0.8070 um', '0.8080 um', '0.8090 um', '0.8100 um', '0.8110 um', '0.8120 um', '0.8130 um', '0.8140 um', '0.8150 um', '0.8160 um', '0.8170 um', '0.8180 um', '0.8190 um', '0.8200 um', '0.8210 um', '0.8220 um', '0.8230 um', '0.8240 um', '0.8250 um', '0.8260 um', '0.8270 um', '0.8280 um', '0.8290 um', '0.8300 um', '0.8310 um', '0.8320 um', '0.8330 um', '0.8340 um', '0.8350 um', '0.8360 um', '0.8370 um', '0.8380 um', '0.8390 um', '0.8400 um', '0.8410 um', '0.8420 um', '0.8430 um', '0.8440 um', '0.8450 um', '0.8460 um', '0.8470 um', '0.8480 um', '0.8490 um', '0.8500 um', '0.8510 um', '0.8520 um', '0.8530 um', '0.8540 um', '0.8550 um', '0.8560 um', '0.8570 um', '0.8580 um', '0.8590 um', '0.8600 um', '0.8610 um', '0.8620 um', '0.8630 um', '0.8640 um', '0.8650 um', '0.8660 um', '0.8670 um', '0.8680 um', '0.8690 um', '0.8700 um', '0.8710 um', '0.8720 um', '0.8730 um', '0.8740 um', '0.8750 um', '0.8760 um', '0.8770 um', '0.8780 um', '0.8790 um', '0.8800 um', '0.8810 um', '0.8820 um', '0.8830 um', '0.8840 um', '0.8850 um', '0.8860 um', '0.8870 um', '0.8880 um', '0.8890 um', '0.8900 um', '0.8910 um', '0.8920 um', '0.8930 um', '0.8940 um', '0.8950 um', '0.8960 um', '0.8970 um', '0.8980 um', '0.8990 um', '0.9000 um', '0.9010 um', '0.9020 um', '0.9030 um', '0.9040 um', '0.9050 um', '0.9060 um', '0.9070 um', '0.9080 um', '0.9090 um', '0.9100 um', '0.9110 um', '0.9120 um', '0.9130 um', '0.9140 um', '0.9150 um', '0.9160 um', '0.9170 um', '0.9180 um', '0.9190 um', '0.9200 um', '0.9210 um', '0.9220 um', '0.9230 um', '0.9240 um', '0.9250 um', '0.9260 um', '0.9270 um', '0.9280 um', '0.9290 um', '0.9300 um', '0.9310 um', '0.9320 um', '0.9330 um', '0.9340 um', '0.9350 um', '0.9360 um', '0.9370 um', '0.9380 um', '0.9390 um', '0.9400 um', '0.9410 um', '0.9420 um', '0.9430 um', '0.9440 um', '0.9450 um', '0.9460 um', '0.9470 um', '0.9480 um', '0.9490 um', '0.9500 um', '0.9510 um', '0.9520 um', '0.9530 um', '0.9540 um', '0.9550 um', '0.9560 um', '0.9570 um', '0.9580 um', '0.9590 um', '0.9600 um', '0.9610 um', '0.9620 um', '0.9630 um', '0.9640 um', '0.9650 um', '0.9660 um', '0.9670 um', '0.9680 um', '0.9690 um', '0.9700 um', '0.9710 um', '0.9720 um', '0.9730 um', '0.9740 um', '0.9750 um', '0.9760 um', '0.9770 um', '0.9780 um', '0.9790 um', '0.9800 um', '0.9810 um', '0.9820 um', '0.9830 um', '0.9840 um', '0.9850 um', '0.9860 um', '0.9870 um', '0.9880 um', '0.9890 um', '0.9900 um', '0.9910 um', '0.9920 um', '0.9930 um', '0.9940 um', '0.9950 um', '0.9960 um', '0.9970 um', '0.9980 um', '0.9990 um', '1.0000 um', '1.0010 um', '1.0020 um', '1.0030 um', '1.0040 um', '1.0050 um', '1.0060 um', '1.0070 um', '1.0080 um', '1.0090 um', '1.0100 um', '1.0110 um', '1.0120 um', '1.0130 um', '1.0140 um', '1.0150 um', '1.0160 um', '1.0170 um', '1.0180 um', '1.0190 um', '1.0200 um', '1.0210 um', '1.0220 um', '1.0230 um', '1.0240 um', '1.0250 um', '1.0260 um', '1.0270 um', '1.0280 um', '1.0290 um', '1.0300 um', '1.0310 um', '1.0320 um', '1.0330 um', '1.0340 um', '1.0350 um', '1.0360 um', '1.0370 um', '1.0380 um', '1.0390 um', '1.0400 um', '1.0410 um', '1.0420 um', '1.0430 um', '1.0440 um', '1.0450 um', '1.0460 um', '1.0470 um', '1.0480 um', '1.0490 um', '1.0500 um', '1.0510 um', '1.0520 um', '1.0530 um', '1.0540 um', '1.0550 um', '1.0560 um', '1.0570 um', '1.0580 um', '1.0590 um', '1.0600 um', '1.0610 um', '1.0620 um', '1.0630 um', '1.0640 um', '1.0650 um', '1.0660 um', '1.0670 um', '1.0680 um', '1.0690 um', '1.0700 um', '1.0710 um', '1.0720 um', '1.0730 um', '1.0740 um', '1.0750 um', '1.0760 um', '1.0770 um', '1.0780 um', '1.0790 um', '1.0800 um', '1.0810 um', '1.0820 um', '1.0830 um', '1.0840 um', '1.0850 um', '1.0860 um', '1.0870 um', '1.0880 um', '1.0890 um', '1.0900 um', '1.0910 um', '1.0920 um', '1.0930 um', '1.0940 um', '1.0950 um', '1.0960 um', '1.0970 um', '1.0980 um', '1.0990 um', '1.1000 um', '1.1010 um', '1.1020 um', '1.1030 um', '1.1040 um', '1.1050 um', '1.1060 um', '1.1070 um', '1.1080 um', '1.1090 um', '1.1100 um', '1.1110 um', '1.1120 um', '1.1130 um', '1.1140 um', '1.1150 um', '1.1160 um', '1.1170 um', '1.1180 um', '1.1190 um', '1.1200 um', '1.1210 um', '1.1220 um', '1.1230 um', '1.1240 um', '1.1250 um', '1.1260 um', '1.1270 um', '1.1280 um', '1.1290 um', '1.1300 um', '1.1310 um', '1.1320 um', '1.1330 um', '1.1340 um', '1.1350 um', '1.1360 um', '1.1370 um', '1.1380 um', '1.1390 um', '1.1400 um', '1.1410 um', '1.1420 um', '1.1430 um', '1.1440 um', '1.1450 um', '1.1460 um', '1.1470 um', '1.1480 um', '1.1490 um', '1.1500 um', '1.1510 um', '1.1520 um', '1.1530 um', '1.1540 um', '1.1550 um', '1.1560 um', '1.1570 um', '1.1580 um', '1.1590 um', '1.1600 um', '1.1610 um', '1.1620 um', '1.1630 um', '1.1640 um', '1.1650 um', '1.1660 um', '1.1670 um', '1.1680 um', '1.1690 um', '1.1700 um', '1.1710 um', '1.1720 um', '1.1730 um', '1.1740 um', '1.1750 um', '1.1760 um', '1.1770 um', '1.1780 um', '1.1790 um', '1.1800 um', '1.1810 um', '1.1820 um', '1.1830 um', '1.1840 um', '1.1850 um', '1.1860 um', '1.1870 um', '1.1880 um', '1.1890 um', '1.1900 um', '1.1910 um', '1.1920 um', '1.1930 um', '1.1940 um', '1.1950 um', '1.1960 um', '1.1970 um', '1.1980 um', '1.1990 um', '1.2000 um', '1.2010 um', '1.2020 um', '1.2030 um', '1.2040 um', '1.2050 um', '1.2060 um', '1.2070 um', '1.2080 um', '1.2090 um', '1.2100 um', '1.2110 um', '1.2120 um', '1.2130 um', '1.2140 um', '1.2150 um', '1.2160 um', '1.2170 um', '1.2180 um', '1.2190 um', '1.2200 um', '1.2210 um', '1.2220 um', '1.2230 um', '1.2240 um', '1.2250 um', '1.2260 um', '1.2270 um', '1.2280 um', '1.2290 um', '1.2300 um', '1.2310 um', '1.2320 um', '1.2330 um', '1.2340 um', '1.2350 um', '1.2360 um', '1.2370 um', '1.2380 um', '1.2390 um', '1.2400 um', '1.2410 um', '1.2420 um', '1.2430 um', '1.2440 um', '1.2450 um', '1.2460 um', '1.2470 um', '1.2480 um', '1.2490 um', '1.2500 um', '1.2510 um', '1.2520 um', '1.2530 um', '1.2540 um', '1.2550 um', '1.2560 um', '1.2570 um', '1.2580 um', '1.2590 um', '1.2600 um', '1.2610 um', '1.2620 um', '1.2630 um', '1.2640 um', '1.2650 um', '1.2660 um', '1.2670 um', '1.2680 um', '1.2690 um', '1.2700 um', '1.2710 um', '1.2720 um', '1.2730 um', '1.2740 um', '1.2750 um', '1.2760 um', '1.2770 um', '1.2780 um', '1.2790 um', '1.2800 um', '1.2810 um', '1.2820 um', '1.2830 um', '1.2840 um', '1.2850 um', '1.2860 um', '1.2870 um', '1.2880 um', '1.2890 um', '1.2900 um', '1.2910 um', '1.2920 um', '1.2930 um', '1.2940 um', '1.2950 um', '1.2960 um', '1.2970 um', '1.2980 um', '1.2990 um', '1.3000 um', '1.3010 um', '1.3020 um', '1.3030 um', '1.3040 um', '1.3050 um', '1.3060 um', '1.3070 um', '1.3080 um', '1.3090 um', '1.3100 um', '1.3110 um', '1.3120 um', '1.3130 um', '1.3140 um', '1.3150 um', '1.3160 um', '1.3170 um', '1.3180 um', '1.3190 um', '1.3200 um', '1.3210 um', '1.3220 um', '1.3230 um', '1.3240 um', '1.3250 um', '1.3260 um', '1.3270 um', '1.3280 um', '1.3290 um', '1.3300 um', '1.3310 um', '1.3320 um', '1.3330 um', '1.3340 um', '1.3350 um', '1.3360 um', '1.3370 um', '1.3380 um', '1.3390 um', '1.3400 um', '1.3410 um', '1.3420 um', '1.3430 um', '1.3440 um', '1.3450 um', '1.3460 um', '1.3470 um', '1.3480 um', '1.3490 um', '1.3500 um', '1.3510 um', '1.3520 um', '1.3530 um', '1.3540 um', '1.3550 um', '1.3560 um', '1.3570 um', '1.3580 um', '1.3590 um', '1.3600 um', '1.3610 um', '1.3620 um', '1.3630 um', '1.3640 um', '1.3650 um', '1.3660 um', '1.3670 um', '1.3680 um', '1.3690 um', '1.3700 um', '1.3710 um', '1.3720 um', '1.3730 um', '1.3740 um', '1.3750 um', '1.3760 um', '1.3770 um', '1.3780 um', '1.3790 um', '1.3800 um', '1.3810 um', '1.3820 um', '1.3830 um', '1.3840 um', '1.3850 um', '1.3860 um', '1.3870 um', '1.3880 um', '1.3890 um', '1.3900 um', '1.3910 um', '1.3920 um', '1.3930 um', '1.3940 um', '1.3950 um', '1.3960 um', '1.3970 um', '1.3980 um', '1.3990 um', '1.4000 um', '1.4010 um', '1.4020 um', '1.4030 um', '1.4040 um', '1.4050 um', '1.4060 um', '1.4070 um', '1.4080 um', '1.4090 um', '1.4100 um', '1.4110 um', '1.4120 um', '1.4130 um', '1.4140 um', '1.4150 um', '1.4160 um', '1.4170 um', '1.4180 um', '1.4190 um', '1.4200 um', '1.4210 um', '1.4220 um', '1.4230 um', '1.4240 um', '1.4250 um', '1.4260 um', '1.4270 um', '1.4280 um', '1.4290 um', '1.4300 um', '1.4310 um', '1.4320 um', '1.4330 um', '1.4340 um', '1.4350 um', '1.4360 um', '1.4370 um', '1.4380 um', '1.4390 um', '1.4400 um', '1.4410 um', '1.4420 um', '1.4430 um', '1.4440 um', '1.4450 um', '1.4460 um', '1.4470 um', '1.4480 um', '1.4490 um', '1.4500 um', '1.4510 um', '1.4520 um', '1.4530 um', '1.4540 um', '1.4550 um', '1.4560 um', '1.4570 um', '1.4580 um', '1.4590 um', '1.4600 um', '1.4610 um', '1.4620 um', '1.4630 um', '1.4640 um', '1.4650 um', '1.4660 um', '1.4670 um', '1.4680 um', '1.4690 um', '1.4700 um', '1.4710 um', '1.4720 um', '1.4730 um', '1.4740 um', '1.4750 um', '1.4760 um', '1.4770 um', '1.4780 um', '1.4790 um', '1.4800 um', '1.4810 um', '1.4820 um', '1.4830 um', '1.4840 um', '1.4850 um', '1.4860 um', '1.4870 um', '1.4880 um', '1.4890 um', '1.4900 um', '1.4910 um', '1.4920 um', '1.4930 um', '1.4940 um', '1.4950 um', '1.4960 um', '1.4970 um', '1.4980 um', '1.4990 um', '1.5000 um', '1.5010 um', '1.5020 um', '1.5030 um', '1.5040 um', '1.5050 um', '1.5060 um', '1.5070 um', '1.5080 um', '1.5090 um', '1.5100 um', '1.5110 um', '1.5120 um', '1.5130 um', '1.5140 um', '1.5150 um', '1.5160 um', '1.5170 um', '1.5180 um', '1.5190 um', '1.5200 um', '1.5210 um', '1.5220 um', '1.5230 um', '1.5240 um', '1.5250 um', '1.5260 um', '1.5270 um', '1.5280 um', '1.5290 um', '1.5300 um', '1.5310 um', '1.5320 um', '1.5330 um', '1.5340 um', '1.5350 um', '1.5360 um', '1.5370 um', '1.5380 um', '1.5390 um', '1.5400 um', '1.5410 um', '1.5420 um', '1.5430 um', '1.5440 um', '1.5450 um', '1.5460 um', '1.5470 um', '1.5480 um', '1.5490 um', '1.5500 um', '1.5510 um', '1.5520 um', '1.5530 um', '1.5540 um', '1.5550 um', '1.5560 um', '1.5570 um', '1.5580 um', '1.5590 um', '1.5600 um', '1.5610 um', '1.5620 um', '1.5630 um', '1.5640 um', '1.5650 um', '1.5660 um', '1.5670 um', '1.5680 um', '1.5690 um', '1.5700 um', '1.5710 um', '1.5720 um', '1.5730 um', '1.5740 um', '1.5750 um', '1.5760 um', '1.5770 um', '1.5780 um', '1.5790 um', '1.5800 um', '1.5810 um', '1.5820 um', '1.5830 um', '1.5840 um', '1.5850 um', '1.5860 um', '1.5870 um', '1.5880 um', '1.5890 um', '1.5900 um', '1.5910 um', '1.5920 um', '1.5930 um', '1.5940 um', '1.5950 um', '1.5960 um', '1.5970 um', '1.5980 um', '1.5990 um', '1.6000 um', '1.6010 um', '1.6020 um', '1.6030 um', '1.6040 um', '1.6050 um', '1.6060 um', '1.6070 um', '1.6080 um', '1.6090 um', '1.6100 um', '1.6110 um', '1.6120 um', '1.6130 um', '1.6140 um', '1.6150 um', '1.6160 um', '1.6170 um', '1.6180 um', '1.6190 um', '1.6200 um', '1.6210 um', '1.6220 um', '1.6230 um', '1.6240 um', '1.6250 um', '1.6260 um', '1.6270 um', '1.6280 um', '1.6290 um', '1.6300 um', '1.6310 um', '1.6320 um', '1.6330 um', '1.6340 um', '1.6350 um', '1.6360 um', '1.6370 um', '1.6380 um', '1.6390 um', '1.6400 um', '1.6410 um', '1.6420 um', '1.6430 um', '1.6440 um', '1.6450 um', '1.6460 um', '1.6470 um', '1.6480 um', '1.6490 um', '1.6500 um', '1.6510 um', '1.6520 um', '1.6530 um', '1.6540 um', '1.6550 um', '1.6560 um', '1.6570 um', '1.6580 um', '1.6590 um', '1.6600 um', '1.6610 um', '1.6620 um', '1.6630 um', '1.6640 um', '1.6650 um', '1.6660 um', '1.6670 um', '1.6680 um', '1.6690 um', '1.6700 um', '1.6710 um', '1.6720 um', '1.6730 um', '1.6740 um', '1.6750 um', '1.6760 um', '1.6770 um', '1.6780 um', '1.6790 um', '1.6800 um', '1.6810 um', '1.6820 um', '1.6830 um', '1.6840 um', '1.6850 um', '1.6860 um', '1.6870 um', '1.6880 um', '1.6890 um', '1.6900 um', '1.6910 um', '1.6920 um', '1.6930 um', '1.6940 um', '1.6950 um', '1.6960 um', '1.6970 um', '1.6980 um', '1.6990 um', '1.7000 um', '1.7020 um', '1.7050 um', '1.7100 um', '1.7150 um', '1.7200 um', '1.7250 um', '1.7300 um', '1.7350 um', '1.7400 um', '1.7450 um', '1.7500 um', '1.7550 um', '1.7600 um', '1.7650 um', '1.7700 um', '1.7750 um', '1.7800 um', '1.7850 um', '1.7900 um', '1.7950 um', '1.8000 um', '1.8050 um', '1.8100 um', '1.8150 um', '1.8200 um', '1.8250 um', '1.8300 um', '1.8350 um', '1.8400 um', '1.8450 um', '1.8500 um', '1.8550 um', '1.8600 um', '1.8650 um', '1.8700 um', '1.8750 um', '1.8800 um', '1.8850 um', '1.8900 um', '1.8950 um', '1.9000 um', '1.9050 um', '1.9100 um', '1.9150 um', '1.9200 um', '1.9250 um', '1.9300 um', '1.9350 um', '1.9400 um', '1.9450 um', '1.9500 um', '1.9550 um', '1.9600 um', '1.9650 um', '1.9700 um', '1.9750 um', '1.9800 um', '1.9850 um', '1.9900 um', '1.9950 um', '2.0000 um', '2.0050 um', '2.0100 um', '2.0150 um', '2.0200 um', '2.0250 um', '2.0300 um', '2.0350 um', '2.0400 um', '2.0450 um', '2.0500 um', '2.0550 um', '2.0600 um', '2.0650 um', '2.0700 um', '2.0750 um', '2.0800 um', '2.0850 um', '2.0900 um', '2.0950 um', '2.1000 um', '2.1050 um', '2.1100 um', '2.1150 um', '2.1200 um', '2.1250 um', '2.1300 um', '2.1350 um', '2.1400 um', '2.1450 um', '2.1500 um', '2.1550 um', '2.1600 um', '2.1650 um', '2.1700 um', '2.1750 um', '2.1800 um', '2.1850 um', '2.1900 um', '2.1950 um', '2.2000 um', '2.2050 um', '2.2100 um', '2.2150 um', '2.2200 um', '2.2250 um', '2.2300 um', '2.2350 um', '2.2400 um', '2.2450 um', '2.2500 um', '2.2550 um', '2.2600 um', '2.2650 um', '2.2700 um', '2.2750 um', '2.2800 um', '2.2850 um', '2.2900 um', '2.2950 um', '2.3000 um', '2.3050 um', '2.3100 um', '2.3150 um', '2.3200 um', '2.3250 um', '2.3300 um', '2.3350 um', '2.3400 um', '2.3450 um', '2.3500 um', '2.3550 um', '2.3600 um', '2.3650 um', '2.3700 um', '2.3750 um', '2.3800 um', '2.3850 um', '2.3900 um', '2.3950 um', '2.4000 um', '2.4050 um', '2.4100 um', '2.4150 um', '2.4200 um', '2.4250 um', '2.4300 um', '2.4350 um', '2.4400 um', '2.4450 um', '2.4500 um', '2.4550 um', '2.4600 um', '2.4650 um', '2.4700 um', '2.4750 um', '2.4800 um', '2.4850 um', '2.4900 um', '2.4950 um', '2.5000 um', '2.5050 um', '2.5100 um', '2.5150 um', '2.5200 um', '2.5250 um', '2.5300 um', '2.5350 um', '2.5400 um', '2.5450 um', '2.5500 um', '2.5550 um', '2.5600 um', '2.5650 um', '2.5700 um', '2.5750 um', '2.5800 um', '2.5850 um', '2.5900 um', '2.5950 um', '2.6000 um', '2.6050 um', '2.6100 um', '2.6150 um', '2.6200 um', '2.6250 um', '2.6300 um', '2.6350 um', '2.6400 um', '2.6450 um', '2.6500 um', '2.6550 um', '2.6600 um', '2.6650 um', '2.6700 um', '2.6750 um', '2.6800 um', '2.6850 um', '2.6900 um', '2.6950 um', '2.7000 um', '2.7050 um', '2.7100 um', '2.7150 um', '2.7200 um', '2.7250 um', '2.7300 um', '2.7350 um', '2.7400 um', '2.7450 um', '2.7500 um', '2.7550 um', '2.7600 um', '2.7650 um', '2.7700 um', '2.7750 um', '2.7800 um', '2.7850 um', '2.7900 um', '2.7950 um', '2.8000 um', '2.8050 um', '2.8100 um', '2.8150 um', '2.8200 um', '2.8250 um', '2.8300 um', '2.8350 um', '2.8400 um', '2.8450 um', '2.8500 um', '2.8550 um', '2.8600 um', '2.8650 um', '2.8700 um', '2.8750 um', '2.8800 um', '2.8850 um', '2.8900 um', '2.8950 um', '2.9000 um', '2.9050 um', '2.9100 um', '2.9150 um', '2.9200 um', '2.9250 um', '2.9300 um', '2.9350 um', '2.9400 um', '2.9450 um', '2.9500 um', '2.9550 um', '2.9600 um', '2.9650 um', '2.9700 um', '2.9750 um', '2.9800 um', '2.9850 um', '2.9900 um', '2.9950 um', '3.0000 um', '3.0050 um', '3.0100 um', '3.0150 um', '3.0200 um', '3.0250 um', '3.0300 um', '3.0350 um', '3.0400 um', '3.0450 um', '3.0500 um', '3.0550 um', '3.0600 um', '3.0650 um', '3.0700 um', '3.0750 um', '3.0800 um', '3.0850 um', '3.0900 um', '3.0950 um', '3.1000 um', '3.1050 um', '3.1100 um', '3.1150 um', '3.1200 um', '3.1250 um', '3.1300 um', '3.1350 um', '3.1400 um', '3.1450 um', '3.1500 um', '3.1550 um', '3.1600 um', '3.1650 um', '3.1700 um', '3.1750 um', '3.1800 um', '3.1850 um', '3.1900 um', '3.1950 um', '3.2000 um', '3.2050 um', '3.2100 um', '3.2150 um', '3.2200 um', '3.2250 um', '3.2300 um', '3.2350 um', '3.2400 um', '3.2450 um', '3.2500 um', '3.2550 um', '3.2600 um', '3.2650 um', '3.2700 um', '3.2750 um', '3.2800 um', '3.2850 um', '3.2900 um', '3.2950 um', '3.3000 um', '3.3050 um', '3.3100 um', '3.3150 um', '3.3200 um', '3.3250 um', '3.3300 um', '3.3350 um', '3.3400 um', '3.3450 um', '3.3500 um', '3.3550 um', '3.3600 um', '3.3650 um', '3.3700 um', '3.3750 um', '3.3800 um', '3.3850 um', '3.3900 um', '3.3950 um', '3.4000 um', '3.4050 um', '3.4100 um', '3.4150 um', '3.4200 um', '3.4250 um', '3.4300 um', '3.4350 um', '3.4400 um', '3.4450 um', '3.4500 um', '3.4550 um', '3.4600 um', '3.4650 um', '3.4700 um', '3.4750 um', '3.4800 um', '3.4850 um', '3.4900 um', '3.4950 um', '3.5000 um', '3.5050 um', '3.5100 um', '3.5150 um', '3.5200 um', '3.5250 um', '3.5300 um', '3.5350 um', '3.5400 um', '3.5450 um', '3.5500 um', '3.5550 um', '3.5600 um', '3.5650 um', '3.5700 um', '3.5750 um', '3.5800 um', '3.5850 um', '3.5900 um', '3.5950 um', '3.6000 um', '3.6050 um', '3.6100 um', '3.6150 um', '3.6200 um', '3.6250 um', '3.6300 um', '3.6350 um', '3.6400 um', '3.6450 um', '3.6500 um', '3.6550 um', '3.6600 um', '3.6650 um', '3.6700 um', '3.6750 um', '3.6800 um', '3.6850 um', '3.6900 um', '3.6950 um', '3.7000 um', '3.7050 um', '3.7100 um', '3.7150 um', '3.7200 um', '3.7250 um', '3.7300 um', '3.7350 um', '3.7400 um', '3.7450 um', '3.7500 um', '3.7550 um', '3.7600 um', '3.7650 um', '3.7700 um', '3.7750 um', '3.7800 um', '3.7850 um', '3.7900 um', '3.7950 um', '3.8000 um', '3.8050 um', '3.8100 um', '3.8150 um', '3.8200 um', '3.8250 um', '3.8300 um', '3.8350 um', '3.8400 um', '3.8450 um', '3.8500 um', '3.8550 um', '3.8600 um', '3.8650 um', '3.8700 um', '3.8750 um', '3.8800 um', '3.8850 um', '3.8900 um', '3.8950 um', '3.9000 um', '3.9050 um', '3.9100 um', '3.9150 um', '3.9200 um', '3.9250 um', '3.9300 um', '3.9350 um', '3.9400 um', '3.9450 um', '3.9500 um', '3.9550 um', '3.9600 um', '3.9650 um', '3.9700 um', '3.9750 um', '3.9800 um', '3.9850 um', '3.9900 um', '3.9950 um', '4.0000 um', 'hour', 'dayofyear']\n"
          ]
        }
      ]
    },
    {
      "cell_type": "code",
      "source": [
        "# Step 4: Select features and target\n",
        "features = ['GHI', 'DHI', 'DNI', 'Temperature', 'Relative Humidity', 'hour', 'dayofyear']\n",
        "target = 'GHI'"
      ],
      "metadata": {
        "id": "a8teNII-vB2m"
      },
      "id": "a8teNII-vB2m",
      "execution_count": 61,
      "outputs": []
    },
    {
      "cell_type": "code",
      "source": [
        "X, y = [], []\n",
        "lookback = 72\n",
        "forecast_horizon = 24\n",
        "\n",
        "data = df[features + [target]].dropna().values\n",
        "\n",
        "for i in range(lookback, len(data) - forecast_horizon):\n",
        "    X.append(data[i - lookback:i, :-1])  # past features\n",
        "    y.append(data[i:i + forecast_horizon, -1])  # future GHI\n",
        "\n",
        "X = np.array(X)\n",
        "y = np.array(y)\n",
        "print(f\"X shape: {X.shape}, y shape: {y.shape}\")"
      ],
      "metadata": {
        "colab": {
          "base_uri": "https://localhost:8080/"
        },
        "id": "iqJs-iw8vEN7",
        "outputId": "6294f19d-b8c9-4b27-da60-a619c95ecff7"
      },
      "id": "iqJs-iw8vEN7",
      "execution_count": 62,
      "outputs": [
        {
          "output_type": "stream",
          "name": "stdout",
          "text": [
            "X shape: (34968, 72, 7), y shape: (34968, 24)\n"
          ]
        }
      ]
    },
    {
      "cell_type": "code",
      "source": [
        "split = int(0.8 * len(X))\n",
        "X_train, X_test = X[:split], X[split:]\n",
        "y_train, y_test = y[:split], y[split:]\n",
        "\n",
        "print(f\"Train shapes: X={X_train.shape}, y={y_train.shape}\")\n",
        "print(f\"Test shapes: X={X_test.shape}, y={y_test.shape}\")"
      ],
      "metadata": {
        "colab": {
          "base_uri": "https://localhost:8080/"
        },
        "id": "_Xph0eywOGVX",
        "outputId": "0b2ee80d-6ade-4b95-9cb4-afb8cda791cf"
      },
      "id": "_Xph0eywOGVX",
      "execution_count": 63,
      "outputs": [
        {
          "output_type": "stream",
          "name": "stdout",
          "text": [
            "Train shapes: X=(27974, 72, 7), y=(27974, 24)\n",
            "Test shapes: X=(6994, 72, 7), y=(6994, 24)\n"
          ]
        }
      ]
    },
    {
      "cell_type": "code",
      "source": [
        "model = Sequential([\n",
        "    LSTM(128, return_sequences=True, input_shape=(X_train.shape[1], X_train.shape[2])),\n",
        "    LSTM(64, return_sequences=False),\n",
        "    Dense(128, activation='relu'),\n",
        "    Dense(24)  # 24-hour forecast\n",
        "])\n",
        "\n",
        "model.compile(optimizer='adam', loss='mse')"
      ],
      "metadata": {
        "colab": {
          "base_uri": "https://localhost:8080/"
        },
        "id": "VB-jjN5gvHby",
        "outputId": "387836e9-d86e-4293-c9b9-fb1291846836"
      },
      "id": "VB-jjN5gvHby",
      "execution_count": 64,
      "outputs": [
        {
          "output_type": "stream",
          "name": "stderr",
          "text": [
            "/usr/local/lib/python3.12/dist-packages/keras/src/layers/rnn/rnn.py:199: UserWarning: Do not pass an `input_shape`/`input_dim` argument to a layer. When using Sequential models, prefer using an `Input(shape)` object as the first layer in the model instead.\n",
            "  super().__init__(**kwargs)\n"
          ]
        }
      ]
    },
    {
      "cell_type": "code",
      "source": [
        "es = EarlyStopping(monitor='val_loss', patience=5, restore_best_weights=True)\n"
      ],
      "metadata": {
        "id": "9qDTi1_iOS4i"
      },
      "id": "9qDTi1_iOS4i",
      "execution_count": 65,
      "outputs": []
    },
    {
      "cell_type": "code",
      "source": [
        "history = model.fit(\n",
        "    X_train, y_train,\n",
        "    epochs=100,\n",
        "    batch_size=64,\n",
        "    validation_split=0.2,\n",
        "    callbacks=[es],\n",
        "    verbose=1\n",
        ")"
      ],
      "metadata": {
        "colab": {
          "base_uri": "https://localhost:8080/"
        },
        "id": "KWVaOspOOYrN",
        "outputId": "ea0b31b8-c9c9-4765-8966-90d94eb5c145"
      },
      "id": "KWVaOspOOYrN",
      "execution_count": 66,
      "outputs": [
        {
          "output_type": "stream",
          "name": "stdout",
          "text": [
            "Epoch 1/100\n",
            "\u001b[1m350/350\u001b[0m \u001b[32m━━━━━━━━━━━━━━━━━━━━\u001b[0m\u001b[37m\u001b[0m \u001b[1m7s\u001b[0m 14ms/step - loss: 152612.0469 - val_loss: 100878.6562\n",
            "Epoch 2/100\n",
            "\u001b[1m350/350\u001b[0m \u001b[32m━━━━━━━━━━━━━━━━━━━━\u001b[0m\u001b[37m\u001b[0m \u001b[1m4s\u001b[0m 11ms/step - loss: 112916.0547 - val_loss: 92872.1328\n",
            "Epoch 3/100\n",
            "\u001b[1m350/350\u001b[0m \u001b[32m━━━━━━━━━━━━━━━━━━━━\u001b[0m\u001b[37m\u001b[0m \u001b[1m4s\u001b[0m 10ms/step - loss: 93547.0469 - val_loss: 60818.5156\n",
            "Epoch 4/100\n",
            "\u001b[1m350/350\u001b[0m \u001b[32m━━━━━━━━━━━━━━━━━━━━\u001b[0m\u001b[37m\u001b[0m \u001b[1m5s\u001b[0m 14ms/step - loss: 60596.9062 - val_loss: 23774.5137\n",
            "Epoch 5/100\n",
            "\u001b[1m350/350\u001b[0m \u001b[32m━━━━━━━━━━━━━━━━━━━━\u001b[0m\u001b[37m\u001b[0m \u001b[1m4s\u001b[0m 11ms/step - loss: 24088.6426 - val_loss: 19076.5957\n",
            "Epoch 6/100\n",
            "\u001b[1m350/350\u001b[0m \u001b[32m━━━━━━━━━━━━━━━━━━━━\u001b[0m\u001b[37m\u001b[0m \u001b[1m4s\u001b[0m 10ms/step - loss: 18489.6758 - val_loss: 12051.4092\n",
            "Epoch 7/100\n",
            "\u001b[1m350/350\u001b[0m \u001b[32m━━━━━━━━━━━━━━━━━━━━\u001b[0m\u001b[37m\u001b[0m \u001b[1m5s\u001b[0m 14ms/step - loss: 11150.9766 - val_loss: 6366.3706\n",
            "Epoch 8/100\n",
            "\u001b[1m350/350\u001b[0m \u001b[32m━━━━━━━━━━━━━━━━━━━━\u001b[0m\u001b[37m\u001b[0m \u001b[1m4s\u001b[0m 11ms/step - loss: 6250.7690 - val_loss: 4399.1108\n",
            "Epoch 9/100\n",
            "\u001b[1m350/350\u001b[0m \u001b[32m━━━━━━━━━━━━━━━━━━━━\u001b[0m\u001b[37m\u001b[0m \u001b[1m4s\u001b[0m 11ms/step - loss: 4621.0938 - val_loss: 4075.7729\n",
            "Epoch 10/100\n",
            "\u001b[1m350/350\u001b[0m \u001b[32m━━━━━━━━━━━━━━━━━━━━\u001b[0m\u001b[37m\u001b[0m \u001b[1m6s\u001b[0m 13ms/step - loss: 4243.6577 - val_loss: 4057.1689\n",
            "Epoch 11/100\n",
            "\u001b[1m350/350\u001b[0m \u001b[32m━━━━━━━━━━━━━━━━━━━━\u001b[0m\u001b[37m\u001b[0m \u001b[1m4s\u001b[0m 12ms/step - loss: 3917.4595 - val_loss: 3875.1582\n",
            "Epoch 12/100\n",
            "\u001b[1m350/350\u001b[0m \u001b[32m━━━━━━━━━━━━━━━━━━━━\u001b[0m\u001b[37m\u001b[0m \u001b[1m4s\u001b[0m 12ms/step - loss: 3710.1929 - val_loss: 3707.1372\n",
            "Epoch 13/100\n",
            "\u001b[1m350/350\u001b[0m \u001b[32m━━━━━━━━━━━━━━━━━━━━\u001b[0m\u001b[37m\u001b[0m \u001b[1m4s\u001b[0m 12ms/step - loss: 3639.5374 - val_loss: 3603.5811\n",
            "Epoch 14/100\n",
            "\u001b[1m350/350\u001b[0m \u001b[32m━━━━━━━━━━━━━━━━━━━━\u001b[0m\u001b[37m\u001b[0m \u001b[1m5s\u001b[0m 12ms/step - loss: 3395.4614 - val_loss: 4154.9707\n",
            "Epoch 15/100\n",
            "\u001b[1m350/350\u001b[0m \u001b[32m━━━━━━━━━━━━━━━━━━━━\u001b[0m\u001b[37m\u001b[0m \u001b[1m6s\u001b[0m 13ms/step - loss: 3464.9358 - val_loss: 4005.2969\n",
            "Epoch 16/100\n",
            "\u001b[1m350/350\u001b[0m \u001b[32m━━━━━━━━━━━━━━━━━━━━\u001b[0m\u001b[37m\u001b[0m \u001b[1m4s\u001b[0m 11ms/step - loss: 3214.2119 - val_loss: 3543.8491\n",
            "Epoch 17/100\n",
            "\u001b[1m350/350\u001b[0m \u001b[32m━━━━━━━━━━━━━━━━━━━━\u001b[0m\u001b[37m\u001b[0m \u001b[1m4s\u001b[0m 12ms/step - loss: 3048.1091 - val_loss: 3636.4458\n",
            "Epoch 18/100\n",
            "\u001b[1m350/350\u001b[0m \u001b[32m━━━━━━━━━━━━━━━━━━━━\u001b[0m\u001b[37m\u001b[0m \u001b[1m6s\u001b[0m 13ms/step - loss: 2921.8745 - val_loss: 3600.5000\n",
            "Epoch 19/100\n",
            "\u001b[1m350/350\u001b[0m \u001b[32m━━━━━━━━━━━━━━━━━━━━\u001b[0m\u001b[37m\u001b[0m \u001b[1m5s\u001b[0m 12ms/step - loss: 2814.2205 - val_loss: 3543.3147\n",
            "Epoch 20/100\n",
            "\u001b[1m350/350\u001b[0m \u001b[32m━━━━━━━━━━━━━━━━━━━━\u001b[0m\u001b[37m\u001b[0m \u001b[1m4s\u001b[0m 11ms/step - loss: 2692.9180 - val_loss: 3409.2039\n",
            "Epoch 21/100\n",
            "\u001b[1m350/350\u001b[0m \u001b[32m━━━━━━━━━━━━━━━━━━━━\u001b[0m\u001b[37m\u001b[0m \u001b[1m5s\u001b[0m 13ms/step - loss: 2624.0754 - val_loss: 3224.8301\n",
            "Epoch 22/100\n",
            "\u001b[1m350/350\u001b[0m \u001b[32m━━━━━━━━━━━━━━━━━━━━\u001b[0m\u001b[37m\u001b[0m \u001b[1m4s\u001b[0m 11ms/step - loss: 2558.9194 - val_loss: 3397.8066\n",
            "Epoch 23/100\n",
            "\u001b[1m350/350\u001b[0m \u001b[32m━━━━━━━━━━━━━━━━━━━━\u001b[0m\u001b[37m\u001b[0m \u001b[1m5s\u001b[0m 11ms/step - loss: 2514.1814 - val_loss: 3294.7124\n",
            "Epoch 24/100\n",
            "\u001b[1m350/350\u001b[0m \u001b[32m━━━━━━━━━━━━━━━━━━━━\u001b[0m\u001b[37m\u001b[0m \u001b[1m5s\u001b[0m 11ms/step - loss: 2410.8054 - val_loss: 3336.2112\n",
            "Epoch 25/100\n",
            "\u001b[1m350/350\u001b[0m \u001b[32m━━━━━━━━━━━━━━━━━━━━\u001b[0m\u001b[37m\u001b[0m \u001b[1m4s\u001b[0m 11ms/step - loss: 2339.1445 - val_loss: 3328.6584\n",
            "Epoch 26/100\n",
            "\u001b[1m350/350\u001b[0m \u001b[32m━━━━━━━━━━━━━━━━━━━━\u001b[0m\u001b[37m\u001b[0m \u001b[1m6s\u001b[0m 13ms/step - loss: 2200.7693 - val_loss: 3231.4626\n"
          ]
        }
      ]
    },
    {
      "cell_type": "code",
      "source": [
        "y_pred = model.predict(X_test)"
      ],
      "metadata": {
        "colab": {
          "base_uri": "https://localhost:8080/"
        },
        "id": "P7rFLIf6vJNd",
        "outputId": "94c6415f-c639-417a-c741-0adef6f6d872"
      },
      "id": "P7rFLIf6vJNd",
      "execution_count": 67,
      "outputs": [
        {
          "output_type": "stream",
          "name": "stdout",
          "text": [
            "\u001b[1m219/219\u001b[0m \u001b[32m━━━━━━━━━━━━━━━━━━━━\u001b[0m\u001b[37m\u001b[0m \u001b[1m1s\u001b[0m 4ms/step\n"
          ]
        }
      ]
    },
    {
      "cell_type": "code",
      "source": [
        "dummy_features_test = np.zeros((y_test.shape[0], y_test.shape[1], data_scaled.shape[-1] - 1))\n",
        "y_test_full = np.concatenate((dummy_features_test, y_test[:, :, np.newaxis]), axis=-1)\n",
        "y_test_unscaled = scaler.inverse_transform(y_test_full.reshape(-1, y_test_full.shape[-1])).reshape(y_test_full.shape)[:, :, -1]\n",
        "\n",
        "dummy_features_pred = np.zeros((y_pred.shape[0], y_pred.shape[1], data_scaled.shape[-1] - 1))\n",
        "y_pred_full = np.concatenate((dummy_features_pred, y_pred[:, :, np.newaxis]), axis=-1)\n",
        "y_pred_unscaled = scaler.inverse_transform(y_pred_full.reshape(-1, y_pred_full.shape[-1])).reshape(y_pred_full.shape)[:, :, -1]\n",
        "\n",
        "\n",
        "mse = mean_squared_error(y_test_unscaled.flatten(), y_pred_unscaled.flatten())\n",
        "print(\"Test MSE:\", mse)"
      ],
      "metadata": {
        "colab": {
          "base_uri": "https://localhost:8080/"
        },
        "id": "rMj2kM-4vLAX",
        "outputId": "b93128c0-0300-494f-ec0b-9e6dbed3895b"
      },
      "id": "rMj2kM-4vLAX",
      "execution_count": 68,
      "outputs": [
        {
          "output_type": "stream",
          "name": "stdout",
          "text": [
            "Test MSE: 5736916302.386148\n"
          ]
        }
      ]
    },
    {
      "cell_type": "code",
      "source": [
        "idx = random.randint(0, len(y_test_unscaled) - 1)\n",
        "\n",
        "plt.figure(figsize=(10,4))\n",
        "plt.plot(y_test_unscaled[idx], label='Actual')\n",
        "plt.plot(y_pred_unscaled[idx], label='Predicted')\n",
        "plt.title(\"GHI Forecast (Next 24 Hours)\")\n",
        "plt.xlabel(\"Hour\")\n",
        "plt.ylabel(\"GHI\")\n",
        "plt.legend()\n",
        "plt.show()"
      ],
      "metadata": {
        "id": "_CICC8lYvNOX",
        "colab": {
          "base_uri": "https://localhost:8080/",
          "height": 410
        },
        "outputId": "8e467b48-1d2b-46d8-a7e7-f65b7716e3b9"
      },
      "id": "_CICC8lYvNOX",
      "execution_count": 89,
      "outputs": [
        {
          "output_type": "display_data",
          "data": {
            "text/plain": [
              "<Figure size 1000x400 with 1 Axes>"
            ],
            "image/png": "[encoded data removed]"
          },
          "metadata": {}
        }
      ]
    },
    {
      "cell_type": "code",
      "source": [
        "model.save(\"2019_2022_FixedTilt_ghi_forecast_model.h5\")\n",
        "print(\"Model saved as 2019_2022_FixedTilt_ghi_forecast_model.h5\")"
      ],
      "metadata": {
        "colab": {
          "base_uri": "https://localhost:8080/"
        },
        "id": "39zC3MWpPS13",
        "outputId": "4f548d4f-3cdc-4363-bf05-eaeca20012ae"
      },
      "id": "39zC3MWpPS13",
      "execution_count": 90,
      "outputs": [
        {
          "output_type": "stream",
          "name": "stderr",
          "text": [
            "WARNING:absl:You are saving your model as an HDF5 file via `model.save()` or `keras.saving.save_model(model)`. This file format is considered legacy. We recommend using instead the native Keras format, e.g. `model.save('my_model.keras')` or `keras.saving.save_model(model, 'my_model.keras')`. \n"
          ]
        },
        {
          "output_type": "stream",
          "name": "stdout",
          "text": [
            "Model saved as 2019_2022_FixedTilt_ghi_forecast_model.h5\n"
          ]
        }
      ]
    },
    {
      "cell_type": "code",
      "source": [
        "model.save(\"2019_2022_FixedTilt_ghi_forecast_model.keras\")\n",
        "print(\"Model saved as 2019_2022_FixedTilt_ghi_forecast_model.keras\")"
      ],
      "metadata": {
        "colab": {
          "base_uri": "https://localhost:8080/"
        },
        "id": "dTAR3PyiR8Mp",
        "outputId": "60e2e48a-5a57-41e0-a17d-cf81dffaaf9e"
      },
      "id": "dTAR3PyiR8Mp",
      "execution_count": 91,
      "outputs": [
        {
          "output_type": "stream",
          "name": "stdout",
          "text": [
            "Model saved as 2019_2022_FixedTilt_ghi_forecast_model.keras\n"
          ]
        }
      ]
    },
    {
      "cell_type": "code",
      "source": [],
      "metadata": {
        "id": "xR8PZxZMSdH1"
      },
      "id": "xR8PZxZMSdH1",
      "execution_count": null,
      "outputs": []
    }
  ],
  "metadata": {
    "kernelspec": {
      "display_name": "Python 3",
      "name": "python3"
    },
    "language_info": {
      "codemirror_mode": {
        "name": "ipython",
        "version": 3
      },
      "file_extension": ".py",
      "mimetype": "text/x-python",
      "name": "python",
      "nbconvert_exporter": "python",
      "pygments_lexer": "ipython3",
      "version": "3.11.9"
    },
    "colab": {
      "provenance": [],
      "gpuType": "T4"
    },
    "accelerator": "GPU"
  },
  "nbformat": 4,
  "nbformat_minor": 5
}